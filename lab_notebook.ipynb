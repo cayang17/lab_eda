{
  "cells": [
    {
      "cell_type": "markdown",
      "metadata": {
        "id": "DHSoEoS_B-n7"
      },
      "source": [
        "## EDA LAB\n",
        "\n",
        "The General Social Survey (GSS) is a bi-annual nationally representative survey of Americans, with almost 7000 different questions asked since the survey began in the 1970s. It has straightforward questions about respondents' demographic information, but also questions like \"Does your job regularly require you to perform repetitive or forceful hand movements or involve awkward postures?\" or \"How often do the demands of your job interfere with your family life?\" There are a variety of controversial questions. No matter what you're curious about, there's something interesting in here to check out. The codebook is 904 pages (use CTRL+F to search it).\n",
        "\n",
        "The data and codebook are available at:\n",
        "https://gss.norc.org/us/en/gss/get-the-data.html\n",
        "\n",
        "The datasets are so large that it might make sense to pick the variables you want, and then download just those variables from:\n",
        "https://gssdataexplorer.norc.org/variables/vfilter\n",
        "\n",
        "Here is your task:\n",
        "1. Download a small (5-15) set of variables of interest. (You can also check out `get_gss.ipynb` for some processed data.)\n",
        "2. Write a short description of the data you chose, and why. (~500 words)\n",
        "3. Load the data using Pandas. Clean them up for EDA. Do this in this notebook with comments or markdown chunks explaining your choices.\n",
        "4. Produce some numeric summaries and visualizations.\n",
        "5. Describe your findings. (500 - 1000 words, or more)\n",
        "\n",
        "For example, you might want to look at how aspects of a person's childhood family are correlated or not with their career or family choices as an adult. Or how political or religious affiliations correlate with drug use or sexual practices. It's an extremely wide-ranging survey.\n"
      ]
    },
    {
      "cell_type": "markdown",
      "source": [
        "2. For this lab, we decided to use a minimal subset of variables from the General Social Survey (GSS) that are all related to work and employment. We felt this would be a good approach because work touches almost everyone's life in some form or another, and considering it from several angles can tell a lot about people as well as general social trends. The variables we've employed are:  \n",
        "\n",
        "* year – the year in which the respondent completed the GSS survey.\n",
        "* wrkstat – the respondent’s current labor force status (ex: working full time, part time, unemployed, retired, in school, etc.).\n",
        "* evwork – indicates whether the respondent has ever held a job for at least one year.\n",
        "* hrs1 – the number of hours the respondent actually worked during the week prior to the survey.\n",
        "* hrs2 – the number of hours the respondent usually works in a typical week.\n",
        "\n",
        "We like this set of variables because it gives us several different viewpoints on the topic of work. The wrkstat variable records a respondent's current employment status. If we add this on with hrs1 (hours worked in the previous week) and hrs2 (hours worked in a typical week), this means that we can check whether or not those categories correlate. It will be informative to see if this correlation holds across the entire dataset, or if there are cases in which reported status and hours do not align.\n",
        "\n",
        "The evwork variable provides us with even more information. It tells us if the respondent has ever worked for one year or more. This allows us to split individuals who have never worked and individuals who are not working but did work previously, like retirees or those between jobs. That makes a difference because having a respondent be \"not working\" doesn't tell the whole story of their experience.\n",
        "\n",
        "Comparing hrs1 and hrs2 to each other is also useful. The majority of the respondents will report only hours for a primary job, but hrs2 shows who have a regular pattern of juggling multiple jobs. That can be informative of whether people who have multiple jobs cluster in part-time groups or if their aggregate hours do indeed add up to full-time work.\n",
        "\n",
        "The year variable allows us to put all of this into broader historical perspective since it identifies the year of the GSS survey for each respondent. Economic fluctuations, cultural shifts, and policy create patterns of work, so they do not remain constant over time. With this variable, we can see if average hours worked are changing or if some categories, such as \"retired\" or \"in school,\" went up or down over decades.\n",
        "\n",
        "We believe that these variables provide us with a solid basis for our analysis. They permit us to compare the way in which individuals classify their work situation with the hours they report, as well as provide us with the opportunity to monitor changes over time. What makes this particularly fascinating is being able to observe not just where the data is as predicted, but where it is not. Those differences will give us a better sense of how work life in America has been described in the survey."
      ],
      "metadata": {
        "id": "7Dme_ZVKCXhl"
      }
    },
    {
      "cell_type": "code",
      "execution_count": 1,
      "metadata": {
        "id": "gPrdZlMuB-n8",
        "outputId": "ef52ddad-4805-4377-cbf2-f8e0eb051f49",
        "colab": {
          "base_uri": "https://localhost:8080/"
        }
      },
      "outputs": [
        {
          "output_type": "stream",
          "name": "stdout",
          "text": [
            "Requirement already satisfied: pandas in /usr/local/lib/python3.12/dist-packages (2.2.2)\n",
            "Requirement already satisfied: numpy in /usr/local/lib/python3.12/dist-packages (2.0.2)\n",
            "Requirement already satisfied: matplotlib in /usr/local/lib/python3.12/dist-packages (3.10.0)\n",
            "Requirement already satisfied: seaborn in /usr/local/lib/python3.12/dist-packages (0.13.2)\n",
            "Requirement already satisfied: openpyxl in /usr/local/lib/python3.12/dist-packages (3.1.5)\n",
            "Requirement already satisfied: python-dateutil>=2.8.2 in /usr/local/lib/python3.12/dist-packages (from pandas) (2.9.0.post0)\n",
            "Requirement already satisfied: pytz>=2020.1 in /usr/local/lib/python3.12/dist-packages (from pandas) (2025.2)\n",
            "Requirement already satisfied: tzdata>=2022.7 in /usr/local/lib/python3.12/dist-packages (from pandas) (2025.2)\n",
            "Requirement already satisfied: contourpy>=1.0.1 in /usr/local/lib/python3.12/dist-packages (from matplotlib) (1.3.3)\n",
            "Requirement already satisfied: cycler>=0.10 in /usr/local/lib/python3.12/dist-packages (from matplotlib) (0.12.1)\n",
            "Requirement already satisfied: fonttools>=4.22.0 in /usr/local/lib/python3.12/dist-packages (from matplotlib) (4.60.0)\n",
            "Requirement already satisfied: kiwisolver>=1.3.1 in /usr/local/lib/python3.12/dist-packages (from matplotlib) (1.4.9)\n",
            "Requirement already satisfied: packaging>=20.0 in /usr/local/lib/python3.12/dist-packages (from matplotlib) (25.0)\n",
            "Requirement already satisfied: pillow>=8 in /usr/local/lib/python3.12/dist-packages (from matplotlib) (11.3.0)\n",
            "Requirement already satisfied: pyparsing>=2.3.1 in /usr/local/lib/python3.12/dist-packages (from matplotlib) (3.2.4)\n",
            "Requirement already satisfied: et-xmlfile in /usr/local/lib/python3.12/dist-packages (from openpyxl) (2.0.0)\n",
            "Requirement already satisfied: six>=1.5 in /usr/local/lib/python3.12/dist-packages (from python-dateutil>=2.8.2->pandas) (1.17.0)\n"
          ]
        }
      ],
      "source": [
        "!pip install pandas numpy matplotlib seaborn openpyxl"
      ]
    },
    {
      "cell_type": "code",
      "execution_count": 2,
      "metadata": {
        "id": "Nna-8rKjB-n8",
        "outputId": "4b6b15d2-e83d-4bb5-de32-9357514a1656",
        "colab": {
          "base_uri": "https://localhost:8080/",
          "height": 374
        }
      },
      "outputs": [
        {
          "output_type": "error",
          "ename": "FileNotFoundError",
          "evalue": "[Errno 2] No such file or directory: './data/GSS.xlsx'",
          "traceback": [
            "\u001b[0;31m---------------------------------------------------------------------------\u001b[0m",
            "\u001b[0;31mFileNotFoundError\u001b[0m                         Traceback (most recent call last)",
            "\u001b[0;32m/tmp/ipython-input-1417254484.py\u001b[0m in \u001b[0;36m<cell line: 0>\u001b[0;34m()\u001b[0m\n\u001b[1;32m      4\u001b[0m \u001b[0;34m\u001b[0m\u001b[0m\n\u001b[1;32m      5\u001b[0m \u001b[0;31m# loading dataset\u001b[0m\u001b[0;34m\u001b[0m\u001b[0;34m\u001b[0m\u001b[0m\n\u001b[0;32m----> 6\u001b[0;31m \u001b[0mdf\u001b[0m \u001b[0;34m=\u001b[0m \u001b[0mpd\u001b[0m\u001b[0;34m.\u001b[0m\u001b[0mread_excel\u001b[0m\u001b[0;34m(\u001b[0m\u001b[0;34m\"./data/GSS.xlsx\"\u001b[0m\u001b[0;34m)\u001b[0m\u001b[0;34m\u001b[0m\u001b[0;34m\u001b[0m\u001b[0m\n\u001b[0m\u001b[1;32m      7\u001b[0m \u001b[0;34m\u001b[0m\u001b[0m\n\u001b[1;32m      8\u001b[0m \u001b[0;31m# keeping only variables of interest\u001b[0m\u001b[0;34m\u001b[0m\u001b[0;34m\u001b[0m\u001b[0m\n",
            "\u001b[0;32m/usr/local/lib/python3.12/dist-packages/pandas/io/excel/_base.py\u001b[0m in \u001b[0;36mread_excel\u001b[0;34m(io, sheet_name, header, names, index_col, usecols, dtype, engine, converters, true_values, false_values, skiprows, nrows, na_values, keep_default_na, na_filter, verbose, parse_dates, date_parser, date_format, thousands, decimal, comment, skipfooter, storage_options, dtype_backend, engine_kwargs)\u001b[0m\n\u001b[1;32m    493\u001b[0m     \u001b[0;32mif\u001b[0m \u001b[0;32mnot\u001b[0m \u001b[0misinstance\u001b[0m\u001b[0;34m(\u001b[0m\u001b[0mio\u001b[0m\u001b[0;34m,\u001b[0m \u001b[0mExcelFile\u001b[0m\u001b[0;34m)\u001b[0m\u001b[0;34m:\u001b[0m\u001b[0;34m\u001b[0m\u001b[0;34m\u001b[0m\u001b[0m\n\u001b[1;32m    494\u001b[0m         \u001b[0mshould_close\u001b[0m \u001b[0;34m=\u001b[0m \u001b[0;32mTrue\u001b[0m\u001b[0;34m\u001b[0m\u001b[0;34m\u001b[0m\u001b[0m\n\u001b[0;32m--> 495\u001b[0;31m         io = ExcelFile(\n\u001b[0m\u001b[1;32m    496\u001b[0m             \u001b[0mio\u001b[0m\u001b[0;34m,\u001b[0m\u001b[0;34m\u001b[0m\u001b[0;34m\u001b[0m\u001b[0m\n\u001b[1;32m    497\u001b[0m             \u001b[0mstorage_options\u001b[0m\u001b[0;34m=\u001b[0m\u001b[0mstorage_options\u001b[0m\u001b[0;34m,\u001b[0m\u001b[0;34m\u001b[0m\u001b[0;34m\u001b[0m\u001b[0m\n",
            "\u001b[0;32m/usr/local/lib/python3.12/dist-packages/pandas/io/excel/_base.py\u001b[0m in \u001b[0;36m__init__\u001b[0;34m(self, path_or_buffer, engine, storage_options, engine_kwargs)\u001b[0m\n\u001b[1;32m   1548\u001b[0m                 \u001b[0mext\u001b[0m \u001b[0;34m=\u001b[0m \u001b[0;34m\"xls\"\u001b[0m\u001b[0;34m\u001b[0m\u001b[0;34m\u001b[0m\u001b[0m\n\u001b[1;32m   1549\u001b[0m             \u001b[0;32melse\u001b[0m\u001b[0;34m:\u001b[0m\u001b[0;34m\u001b[0m\u001b[0;34m\u001b[0m\u001b[0m\n\u001b[0;32m-> 1550\u001b[0;31m                 ext = inspect_excel_format(\n\u001b[0m\u001b[1;32m   1551\u001b[0m                     \u001b[0mcontent_or_path\u001b[0m\u001b[0;34m=\u001b[0m\u001b[0mpath_or_buffer\u001b[0m\u001b[0;34m,\u001b[0m \u001b[0mstorage_options\u001b[0m\u001b[0;34m=\u001b[0m\u001b[0mstorage_options\u001b[0m\u001b[0;34m\u001b[0m\u001b[0;34m\u001b[0m\u001b[0m\n\u001b[1;32m   1552\u001b[0m                 )\n",
            "\u001b[0;32m/usr/local/lib/python3.12/dist-packages/pandas/io/excel/_base.py\u001b[0m in \u001b[0;36minspect_excel_format\u001b[0;34m(content_or_path, storage_options)\u001b[0m\n\u001b[1;32m   1400\u001b[0m         \u001b[0mcontent_or_path\u001b[0m \u001b[0;34m=\u001b[0m \u001b[0mBytesIO\u001b[0m\u001b[0;34m(\u001b[0m\u001b[0mcontent_or_path\u001b[0m\u001b[0;34m)\u001b[0m\u001b[0;34m\u001b[0m\u001b[0;34m\u001b[0m\u001b[0m\n\u001b[1;32m   1401\u001b[0m \u001b[0;34m\u001b[0m\u001b[0m\n\u001b[0;32m-> 1402\u001b[0;31m     with get_handle(\n\u001b[0m\u001b[1;32m   1403\u001b[0m         \u001b[0mcontent_or_path\u001b[0m\u001b[0;34m,\u001b[0m \u001b[0;34m\"rb\"\u001b[0m\u001b[0;34m,\u001b[0m \u001b[0mstorage_options\u001b[0m\u001b[0;34m=\u001b[0m\u001b[0mstorage_options\u001b[0m\u001b[0;34m,\u001b[0m \u001b[0mis_text\u001b[0m\u001b[0;34m=\u001b[0m\u001b[0;32mFalse\u001b[0m\u001b[0;34m\u001b[0m\u001b[0;34m\u001b[0m\u001b[0m\n\u001b[1;32m   1404\u001b[0m     ) as handle:\n",
            "\u001b[0;32m/usr/local/lib/python3.12/dist-packages/pandas/io/common.py\u001b[0m in \u001b[0;36mget_handle\u001b[0;34m(path_or_buf, mode, encoding, compression, memory_map, is_text, errors, storage_options)\u001b[0m\n\u001b[1;32m    880\u001b[0m         \u001b[0;32melse\u001b[0m\u001b[0;34m:\u001b[0m\u001b[0;34m\u001b[0m\u001b[0;34m\u001b[0m\u001b[0m\n\u001b[1;32m    881\u001b[0m             \u001b[0;31m# Binary mode\u001b[0m\u001b[0;34m\u001b[0m\u001b[0;34m\u001b[0m\u001b[0m\n\u001b[0;32m--> 882\u001b[0;31m             \u001b[0mhandle\u001b[0m \u001b[0;34m=\u001b[0m \u001b[0mopen\u001b[0m\u001b[0;34m(\u001b[0m\u001b[0mhandle\u001b[0m\u001b[0;34m,\u001b[0m \u001b[0mioargs\u001b[0m\u001b[0;34m.\u001b[0m\u001b[0mmode\u001b[0m\u001b[0;34m)\u001b[0m\u001b[0;34m\u001b[0m\u001b[0;34m\u001b[0m\u001b[0m\n\u001b[0m\u001b[1;32m    883\u001b[0m         \u001b[0mhandles\u001b[0m\u001b[0;34m.\u001b[0m\u001b[0mappend\u001b[0m\u001b[0;34m(\u001b[0m\u001b[0mhandle\u001b[0m\u001b[0;34m)\u001b[0m\u001b[0;34m\u001b[0m\u001b[0;34m\u001b[0m\u001b[0m\n\u001b[1;32m    884\u001b[0m \u001b[0;34m\u001b[0m\u001b[0m\n",
            "\u001b[0;31mFileNotFoundError\u001b[0m: [Errno 2] No such file or directory: './data/GSS.xlsx'"
          ]
        }
      ],
      "source": [
        "#3\n",
        "import pandas as pd\n",
        "import numpy as np\n",
        "\n",
        "# loading dataset\n",
        "df = pd.read_excel(\"./data/GSS.xlsx\")\n",
        "\n",
        "# keeping only variables of interest\n",
        "df = df[['year', 'wrkstat', 'evwork', 'hrs1', 'hrs2']]\n",
        "\n",
        "# cleaning categorical variables\n",
        "df['wrkstat'] = df['wrkstat'].astype('category')\n",
        "df['evwork'] = df['evwork'].replace({ # replacing non-yes/no with NaN\n",
        "    '.i:  Inapplicable': None,\n",
        "    '.n:  No answer': None,\n",
        "    '.s:  Skipped on Web': None,\n",
        "    '.d:  Do not Know/Cannot Choose': None\n",
        "})\n",
        "df['evwork'] = df['evwork'].astype('category')\n",
        "\n",
        "# cleaning numeric variables\n",
        "def clean_hours(x): # helper for stripping labels and converting to numbers\n",
        "    if pd.isna(x):\n",
        "        return None\n",
        "    if isinstance(x, str):\n",
        "        if x.startswith('.') or not any(c.isdigit() for c in x):\n",
        "            return None\n",
        "        try:\n",
        "            return float(x)\n",
        "        except:\n",
        "            return None\n",
        "    return x\n",
        "\n",
        "df['hrs1'] = df['hrs1'].apply(clean_hours)\n",
        "df['hrs2'] = df['hrs2'].apply(clean_hours)\n",
        "\n",
        "# calculate total_hrs only for workers\n",
        "df['total_hrs'] = df[['hrs1','hrs2']].sum(axis=1, min_count=1)\n",
        "\n",
        "# NaN for non-workers\n",
        "df.loc[~df['wrkstat'].isin(['Working full time','Working part time']), 'total_hrs'] = np.nan\n",
        "\n",
        "# checks\n",
        "print(df.head())\n",
        "print(df.info())\n",
        "\n",
        "print(df['wrkstat'].value_counts().head())\n",
        "print(df['evwork'].value_counts())\n",
        "\n",
        "print(df[['hrs1','hrs2','total_hrs']].describe())"
      ]
    },
    {
      "cell_type": "code",
      "execution_count": null,
      "metadata": {
        "id": "tLuVd1Q8B-n9"
      },
      "outputs": [],
      "source": [
        "# 4\n",
        "\n",
        "import matplotlib.pyplot as plt\n",
        "import seaborn as sns\n",
        "\n",
        "sns.set(style=\"whitegrid\")\n",
        "\n",
        "# 1. Distribution of Work Status\n",
        "plt.figure(figsize=(8,5))\n",
        "sns.countplot(y=\"wrkstat\", data=df, order=df['wrkstat'].value_counts().index, palette=\"viridis\")\n",
        "plt.title(\"Distribution of Work Status\")\n",
        "plt.xlabel(\"Count\")\n",
        "plt.ylabel(\"Work Status\")\n",
        "plt.show()\n",
        "\n",
        "# 2. Ever Worked Distribution\n",
        "plt.figure(figsize=(6,4))\n",
        "sns.countplot(x=\"evwork\", data=df, palette=\"magma\")\n",
        "plt.title(\"Have you ever worked?\")\n",
        "plt.xlabel(\"Response\")\n",
        "plt.ylabel(\"Count\")\n",
        "plt.show()\n",
        "\n",
        "# 3. Histogram of Weekly Hours\n",
        "plt.figure(figsize=(8,5))\n",
        "sns.histplot(df['total_hrs'], bins=30, kde=True, color=\"steelblue\")\n",
        "plt.title(\"Distribution of Weekly Working Hours\")\n",
        "plt.xlabel(\"Weekly Hours Worked\")\n",
        "plt.ylabel(\"Frequency\")\n",
        "plt.show()\n",
        "\n",
        "# 4. Boxplot: Hours by Work Status\n",
        "plt.figure(figsize=(10,6))\n",
        "sns.boxplot(x=\"wrkstat\", y=\"total_hrs\", data=df, palette=\"Set2\")\n",
        "plt.title(\"Weekly Working Hours by Work Status\")\n",
        "plt.xlabel(\"Work Status\")\n",
        "plt.ylabel(\"Weekly Hours\")\n",
        "plt.xticks(rotation=30)\n",
        "plt.show()\n",
        "\n",
        "# 5. Trend Over Time (Year vs Avg Hours)\n",
        "avg_hours_by_year = df.groupby(\"year\")['total_hrs'].mean()\n",
        "\n",
        "plt.figure(figsize=(10,5))\n",
        "avg_hours_by_year.plot(marker=\"o\", linestyle=\"-\", color=\"darkgreen\")\n",
        "plt.title(\"Average Weekly Hours Worked Over Time\")\n",
        "plt.xlabel(\"Year\")\n",
        "plt.ylabel(\"Average Weekly Hours\")\n",
        "plt.grid(True)\n",
        "plt.show()\n",
        "\n",
        "# 6. Numeric Summaries\n",
        "print(\"\\n--- Summary Statistics ---\")\n",
        "print(df[['hrs1','hrs2','total_hrs']].describe())\n",
        "\n",
        "print(\"\\n--- Work Status Counts ---\")\n",
        "print(df['wrkstat'].value_counts())\n",
        "\n",
        "print(\"\\n--- Ever Worked Counts ---\")\n",
        "print(df['evwork'].value_counts())\n"
      ]
    }
  ],
  "metadata": {
    "kernelspec": {
      "display_name": ".venv (3.13.1)",
      "language": "python",
      "name": "python3"
    },
    "language_info": {
      "codemirror_mode": {
        "name": "ipython",
        "version": 3
      },
      "file_extension": ".py",
      "mimetype": "text/x-python",
      "name": "python",
      "nbconvert_exporter": "python",
      "pygments_lexer": "ipython3",
      "version": "3.13.1"
    },
    "colab": {
      "provenance": []
    }
  },
  "nbformat": 4,
  "nbformat_minor": 0
}